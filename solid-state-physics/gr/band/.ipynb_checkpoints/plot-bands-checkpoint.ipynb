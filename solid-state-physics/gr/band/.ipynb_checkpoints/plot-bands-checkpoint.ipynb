{
 "cells": [
  {
   "cell_type": "code",
   "execution_count": null,
   "metadata": {},
   "outputs": [],
   "source": [
    "import matplotlib.pyplot as plt\n",
    "plt.style.use('../../matplotlib/sci.mplstyle')\n",
    "import numpy as np\n",
    "\n",
    "efermi = -1.6790\n",
    "\n",
    "data = np.loadtxt('gr.bands.gnu')\n",
    "k = np.unique(data[:, 0])\n",
    "bands = np.reshape(data[:, 1], (-1, len(k)))\n",
    "\n",
    "gG1 = k[00]\n",
    "K = k[40]\n",
    "M = k[60] \n",
    "gG2 = k[90]\n",
    "\n",
    "plt.figure()\n",
    "plt.axhline(0, c = 'gray', ls = ':')\n",
    "plt.axvline(K, c = 'gray')\n",
    "plt.axvline(M, c = 'gray')\n",
    "\n",
    "for band in range(len(bands)):\n",
    "    plt.plot(k, bands[band, :]-efermi, c = 'b')\n",
    "\n",
    "plt.xlabel('')\n",
    "plt.ylabel('Energy (eV)')\n",
    "plt.xlim(gG1, gG2)\n",
    "plt.ylim(-20, 20)\n",
    "plt.xticks([gG1, K, M, gG2], ['$\\Gamma$', 'K', 'M', '$\\Gamma$'])\n",
    "plt.tick_params(axis = 'x', which = 'minor', bottom = False, top = False)\n",
    "plt.savefig('plot-bands.pdf')\n",
    "plt.show()"
   ]
  }
 ],
 "metadata": {
  "language_info": {
   "name": "python"
  },
  "orig_nbformat": 4
 },
 "nbformat": 4,
 "nbformat_minor": 2
}
